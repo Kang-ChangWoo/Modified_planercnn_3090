{
 "cells": [
  {
   "cell_type": "code",
   "execution_count": 48,
   "id": "5f6b5860",
   "metadata": {},
   "outputs": [],
   "source": [
    "import os\n",
    "import shutil\n",
    "\n",
    "# # ================================================\n",
    "# # 가장 초기 NYUv2에서 필터를 진행할 때 사용.\n",
    "# # ================================================\n",
    "# fromPATH = '/root/dev/depthbin/NYUtest'\n",
    "# towardPATH = '/root/dev/depthbin/NYUtest_filtered'\n",
    "\n",
    "# flist = os.listdir(fromPATH)\n",
    "# flist = [i for i in flist if i.split('_')[-] == 'color.jpg']\n",
    "\n",
    "# os.mkdir(towardPATH)\n",
    "\n",
    "# for fname in flist:\n",
    "#     source = fromPATH + '/' + fname\n",
    "#     destination = towardPATH + '/' + fname\n",
    "\n",
    "#     shutil.move(source,destination)\n",
    "\n",
    "# # ================================================\n",
    "# # 추론 이후에 옮겨서 사용. (NYU test inferenced)\n",
    "# # ================================================\n",
    "# fromPATH = '/root/dev/depthbin/NYUtest_inferenced'\n",
    "# towardPATH = '/root/dev/depthbin/NYUtest_inferenced_sorted'\n",
    "\n",
    "# flist = os.listdir(fromPATH)\n",
    "# flist = [i for i in flist if i.split('_')[-2] == 'image']\n",
    "\n",
    "# #os.mkdir(towardPATH)\n",
    "\n",
    "# for fname in flist:\n",
    "#     source = fromPATH + '/' + fname\n",
    "#     destination = towardPATH + '/' + fname\n",
    "\n",
    "#     shutil.move(source,destination)\n",
    "    \n",
    "\n",
    "# # ================================================\n",
    "# # 추론 이후에 옮겨서 사용. (NYU train inferenced)\n",
    "# # ================================================\n",
    "# fromPATH = '/root/dev/depthbin/NYUtrain_inferenced'\n",
    "# towardPATH = '/root/dev/depthbin/NYUtrain_inferenced_sorted'\n",
    "\n",
    "# flist = os.listdir(fromPATH)\n",
    "# flist = [i for i in flist if i.split('_')[-2] == 'image']\n",
    "\n",
    "# os.mkdir(towardPATH)\n",
    "\n",
    "# for fname in flist:\n",
    "#     source = fromPATH + '/' + fname\n",
    "#     destination = towardPATH + '/' + fname\n",
    "\n",
    "#     shutil.move(source,destination)\n"
   ]
  },
  {
   "cell_type": "code",
   "execution_count": null,
   "id": "1080ef13",
   "metadata": {},
   "outputs": [],
   "source": []
  }
 ],
 "metadata": {
  "kernelspec": {
   "display_name": "Python 3 (ipykernel)",
   "language": "python",
   "name": "python3"
  },
  "language_info": {
   "codemirror_mode": {
    "name": "ipython",
    "version": 3
   },
   "file_extension": ".py",
   "mimetype": "text/x-python",
   "name": "python",
   "nbconvert_exporter": "python",
   "pygments_lexer": "ipython3",
   "version": "3.9.5"
  }
 },
 "nbformat": 4,
 "nbformat_minor": 5
}
